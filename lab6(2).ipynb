{
  "nbformat": 4,
  "nbformat_minor": 0,
  "metadata": {
    "colab": {
      "provenance": []
    },
    "kernelspec": {
      "name": "python3",
      "display_name": "Python 3"
    },
    "language_info": {
      "name": "python"
    }
  },
  "cells": [
    {
      "cell_type": "code",
      "source": [
        "import nltk\n",
        "from nltk.corpus import reuters\n",
        "from nltk.tokenize import word_tokenize\n",
        "from sklearn.feature_extraction.text import TfidfVectorizer\n",
        "from sklearn.metrics.cluster import rand_score\n",
        "import matplotlib.pyplot as plt\n",
        "from scipy.cluster.hierarchy import dendrogram, linkage, fcluster\n",
        "\n",
        "# Download Reuters dataset\n",
        "nltk.download('reuters')\n",
        "\n",
        "# Select relevant classes (crude, interest, and grain)\n",
        "relevant_classes = ['crude', 'interest', 'grain']\n",
        "\n",
        "# Filter documents belonging to the relevant classes\n",
        "documents = [file_id for file_id in reuters.fileids() if set(reuters.categories(file_id)).issubset(relevant_classes)]\n",
        "\n",
        "# Tokenize and vectorize documents\n",
        "corpus = [' '.join(reuters.words(file_id)) for file_id in documents]\n",
        "vectorizer = TfidfVectorizer(stop_words='english')\n",
        "X = vectorizer.fit_transform(corpus)\n",
        "\n",
        "# Compute single-link clustering\n",
        "linkage_matrix = linkage(X.toarray(), method='single')\n",
        "\n",
        "# Cut the dendrogram at the second branch from the top to obtain K=3 clusters\n",
        "k = 3\n",
        "clusters = fcluster(linkage_matrix, k, criterion='maxclust')\n",
        "\n",
        "# Compute Rand index\n",
        "true_labels = [relevant_classes.index(reuters.categories(file_id)[0]) for file_id in documents]\n",
        "rand_index = rand_score(true_labels, clusters)\n",
        "\n",
        "print(f'Rand Index: {rand_index}')\n"
      ],
      "metadata": {
        "colab": {
          "base_uri": "https://localhost:8080/"
        },
        "id": "ApuigRbB_I_U",
        "outputId": "0cdbcdcf-ff6c-4702-a23c-5a1b6803dbc7"
      },
      "execution_count": 52,
      "outputs": [
        {
          "output_type": "stream",
          "name": "stderr",
          "text": [
            "[nltk_data] Downloading package reuters to /root/nltk_data...\n",
            "[nltk_data]   Package reuters is already up-to-date!\n"
          ]
        },
        {
          "output_type": "stream",
          "name": "stdout",
          "text": [
            "Rand Index: 0.4472750593003992\n"
          ]
        }
      ]
    },
    {
      "cell_type": "code",
      "source": [
        "import nltk\n",
        "from nltk.corpus import reuters\n",
        "from nltk.tokenize import word_tokenize\n",
        "from sklearn.feature_extraction.text import TfidfVectorizer\n",
        "from sklearn.metrics.cluster import rand_score\n",
        "import matplotlib.pyplot as plt\n",
        "from scipy.cluster.hierarchy import dendrogram, linkage, fcluster\n",
        "\n",
        "# Download Reuters dataset\n",
        "nltk.download('reuters')\n",
        "\n",
        "# Select relevant classes (crude, interest, and grain)\n",
        "relevant_classes = ['crude', 'interest', 'grain']\n",
        "\n",
        "# Filter documents belonging to the relevant classes\n",
        "documents = [file_id for file_id in reuters.fileids() if set(reuters.categories(file_id)).issubset(relevant_classes)]\n",
        "\n",
        "# Tokenize and vectorize documents\n",
        "corpus = [' '.join(reuters.words(file_id)) for file_id in documents]\n",
        "vectorizer = TfidfVectorizer(stop_words='english')\n",
        "X = vectorizer.fit_transform(corpus)\n",
        "\n",
        "# Compute complete-link clustering\n",
        "linkage_matrix = linkage(X.toarray(), method='complete')\n",
        "\n",
        "# Cut the dendrogram at the second branch from the top to obtain K=3 clusters\n",
        "k = 3\n",
        "clusters = fcluster(linkage_matrix, k, criterion='maxclust')\n",
        "\n",
        "# Compute Rand index\n",
        "true_labels = [relevant_classes.index(reuters.categories(file_id)[0]) for file_id in documents]\n",
        "rand_index = rand_score(true_labels, clusters)\n",
        "\n",
        "print(f'Rand Index: {rand_index}')\n"
      ],
      "metadata": {
        "colab": {
          "base_uri": "https://localhost:8080/"
        },
        "id": "HxFGkx4HBheU",
        "outputId": "3e903a13-c191-4664-9dd2-3b44a47f97a9"
      },
      "execution_count": 53,
      "outputs": [
        {
          "output_type": "stream",
          "name": "stderr",
          "text": [
            "[nltk_data] Downloading package reuters to /root/nltk_data...\n",
            "[nltk_data]   Package reuters is already up-to-date!\n"
          ]
        },
        {
          "output_type": "stream",
          "name": "stdout",
          "text": [
            "Rand Index: 0.5387436126173162\n"
          ]
        }
      ]
    },
    {
      "cell_type": "code",
      "source": [
        "import nltk\n",
        "from nltk.corpus import reuters\n",
        "from nltk.tokenize import word_tokenize\n",
        "from sklearn.feature_extraction.text import TfidfVectorizer\n",
        "from sklearn.metrics.cluster import rand_score\n",
        "import matplotlib.pyplot as plt\n",
        "from scipy.cluster.hierarchy import dendrogram, linkage, fcluster\n",
        "\n",
        "# Download Reuters dataset\n",
        "nltk.download('reuters')\n",
        "\n",
        "# Select relevant classes (crude, interest, and grain)\n",
        "relevant_classes = ['crude', 'interest', 'grain']\n",
        "\n",
        "# Filter documents belonging to the relevant classes\n",
        "documents = [file_id for file_id in reuters.fileids() if set(reuters.categories(file_id)).issubset(relevant_classes)]\n",
        "\n",
        "# Tokenize and vectorize documents\n",
        "corpus = [' '.join(reuters.words(file_id)) for file_id in documents]\n",
        "vectorizer = TfidfVectorizer(stop_words='english')\n",
        "X = vectorizer.fit_transform(corpus)\n",
        "\n",
        "# Compute average-link clustering\n",
        "linkage_matrix = linkage(X.toarray(), method='average')\n",
        "\n",
        "# Cut the dendrogram at the second branch from the top to obtain K=3 clusters\n",
        "k = 3\n",
        "clusters = fcluster(linkage_matrix, k, criterion='maxclust')\n",
        "\n",
        "# Compute Rand index\n",
        "true_labels = [relevant_classes.index(reuters.categories(file_id)[0]) for file_id in documents]\n",
        "rand_index = rand_score(true_labels, clusters)\n",
        "\n",
        "print(f'Rand Index: {rand_index}')\n"
      ],
      "metadata": {
        "colab": {
          "base_uri": "https://localhost:8080/"
        },
        "id": "Qc7yXYvkBuFt",
        "outputId": "915ba870-7361-48df-ff8f-b73b51ed9723"
      },
      "execution_count": 54,
      "outputs": [
        {
          "output_type": "stream",
          "name": "stderr",
          "text": [
            "[nltk_data] Downloading package reuters to /root/nltk_data...\n",
            "[nltk_data]   Package reuters is already up-to-date!\n"
          ]
        },
        {
          "output_type": "stream",
          "name": "stdout",
          "text": [
            "Rand Index: 0.44947852647243813\n"
          ]
        }
      ]
    },
    {
      "cell_type": "code",
      "source": [
        "import nltk\n",
        "from nltk.corpus import reuters\n",
        "from sklearn.feature_extraction.text import TfidfVectorizer\n",
        "from sklearn.metrics.cluster import rand_score\n",
        "import matplotlib.pyplot as plt\n",
        "from scipy.cluster.hierarchy import dendrogram, linkage, fcluster\n",
        "\n",
        "# Download Reuters dataset\n",
        "nltk.download('reuters')\n",
        "\n",
        "# Select relevant classes (crude, interest, and grain)\n",
        "relevant_classes = ['crude', 'interest', 'grain']\n",
        "\n",
        "# Filter documents belonging to the relevant classes\n",
        "documents = [file_id for file_id in reuters.fileids() if set(reuters.categories(file_id)).issubset(relevant_classes)]\n",
        "\n",
        "# Tokenize and vectorize documents\n",
        "corpus = [' '.join(reuters.words(file_id)) for file_id in documents]\n",
        "vectorizer = TfidfVectorizer(stop_words='english')\n",
        "X = vectorizer.fit_transform(corpus)\n",
        "\n",
        "# Compute centroid (ward) clustering\n",
        "linkage_matrix = linkage(X.toarray(), method='ward')\n",
        "\n",
        "# Cut the dendrogram at the second branch from the top to obtain K=3 clusters\n",
        "k = 3\n",
        "clusters = fcluster(linkage_matrix, k, criterion='maxclust')\n",
        "\n",
        "# Compute Rand index\n",
        "true_labels = [relevant_classes.index(reuters.categories(file_id)[0]) for file_id in documents]\n",
        "rand_index = rand_score(true_labels, clusters)\n",
        "\n",
        "print(f'Rand Index: {rand_index}')\n"
      ],
      "metadata": {
        "colab": {
          "base_uri": "https://localhost:8080/"
        },
        "id": "Hj4VVZ0VB3hW",
        "outputId": "d513c188-18e0-4f00-9752-ef5ccdcd3cf1"
      },
      "execution_count": 55,
      "outputs": [
        {
          "output_type": "stream",
          "name": "stderr",
          "text": [
            "[nltk_data] Downloading package reuters to /root/nltk_data...\n",
            "[nltk_data]   Package reuters is already up-to-date!\n"
          ]
        },
        {
          "output_type": "stream",
          "name": "stdout",
          "text": [
            "Rand Index: 0.7297875051900696\n"
          ]
        }
      ]
    }
  ]
}