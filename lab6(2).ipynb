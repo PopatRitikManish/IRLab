{
  "cells": [
    {
      "cell_type": "code",
      "execution_count": 1,
      "metadata": {
        "colab": {
          "base_uri": "https://localhost:8080/"
        },
        "id": "ApuigRbB_I_U",
        "outputId": "0cdbcdcf-ff6c-4702-a23c-5a1b6803dbc7"
      },
      "outputs": [
        {
          "name": "stderr",
          "output_type": "stream",
          "text": [
            "[nltk_data] Downloading package reuters to\n",
            "[nltk_data]     C:\\Users\\Ritik\\AppData\\Roaming\\nltk_data...\n",
            "[nltk_data]   Package reuters is already up-to-date!\n"
          ]
        },
        {
          "name": "stdout",
          "output_type": "stream",
          "text": [
            "Rand Index: 0.4472750593003992\n"
          ]
        }
      ],
      "source": [
        "import nltk\n",
        "from nltk.corpus import reuters\n",
        "from nltk.tokenize import word_tokenize\n",
        "from sklearn.feature_extraction.text import TfidfVectorizer\n",
        "from sklearn.metrics.cluster import rand_score\n",
        "import matplotlib.pyplot as plt\n",
        "from scipy.cluster.hierarchy import dendrogram, linkage, fcluster\n",
        "\n",
        "# Download Reuters dataset\n",
        "nltk.download('reuters')\n",
        "\n",
        "# Select relevant classes (crude, interest, and grain)\n",
        "relevant_classes = ['crude', 'interest', 'grain']\n",
        "\n",
        "# Filter documents belonging to the relevant classes\n",
        "documents = [file_id for file_id in reuters.fileids() if set(reuters.categories(file_id)).issubset(relevant_classes)]\n",
        "\n",
        "# Tokenize and vectorize documents\n",
        "corpus = [' '.join(reuters.words(file_id)) for file_id in documents]\n",
        "vectorizer = TfidfVectorizer(stop_words='english')\n",
        "X = vectorizer.fit_transform(corpus)\n",
        "\n",
        "# Compute single-link clustering\n",
        "linkage_matrix = linkage(X.toarray(), method='single')\n",
        "\n",
        "# Cut the dendrogram at the second branch from the top to obtain K=3 clusters\n",
        "k = 3\n",
        "clusters = fcluster(linkage_matrix, k, criterion='maxclust')\n",
        "\n",
        "# Compute Rand index\n",
        "true_labels = [relevant_classes.index(reuters.categories(file_id)[0]) for file_id in documents]\n",
        "rand_index_single = rand_score(true_labels, clusters)\n",
        "\n",
        "print(f'Rand Index: {rand_index_single}')\n"
      ]
    },
    {
      "cell_type": "code",
      "execution_count": 2,
      "metadata": {
        "colab": {
          "base_uri": "https://localhost:8080/"
        },
        "id": "HxFGkx4HBheU",
        "outputId": "3e903a13-c191-4664-9dd2-3b44a47f97a9"
      },
      "outputs": [
        {
          "name": "stderr",
          "output_type": "stream",
          "text": [
            "[nltk_data] Downloading package reuters to\n",
            "[nltk_data]     C:\\Users\\Ritik\\AppData\\Roaming\\nltk_data...\n",
            "[nltk_data]   Package reuters is already up-to-date!\n"
          ]
        },
        {
          "name": "stdout",
          "output_type": "stream",
          "text": [
            "Rand Index: 0.5387436126173162\n"
          ]
        }
      ],
      "source": [
        "import nltk\n",
        "from nltk.corpus import reuters\n",
        "from nltk.tokenize import word_tokenize\n",
        "from sklearn.feature_extraction.text import TfidfVectorizer\n",
        "from sklearn.metrics.cluster import rand_score\n",
        "import matplotlib.pyplot as plt\n",
        "from scipy.cluster.hierarchy import dendrogram, linkage, fcluster\n",
        "\n",
        "# Download Reuters dataset\n",
        "nltk.download('reuters')\n",
        "\n",
        "# Select relevant classes (crude, interest, and grain)\n",
        "relevant_classes = ['crude', 'interest', 'grain']\n",
        "\n",
        "# Filter documents belonging to the relevant classes\n",
        "documents = [file_id for file_id in reuters.fileids() if set(reuters.categories(file_id)).issubset(relevant_classes)]\n",
        "\n",
        "# Tokenize and vectorize documents\n",
        "corpus = [' '.join(reuters.words(file_id)) for file_id in documents]\n",
        "vectorizer = TfidfVectorizer(stop_words='english')\n",
        "X = vectorizer.fit_transform(corpus)\n",
        "\n",
        "# Compute complete-link clustering\n",
        "linkage_matrix = linkage(X.toarray(), method='complete')\n",
        "\n",
        "# Cut the dendrogram at the second branch from the top to obtain K=3 clusters\n",
        "k = 3\n",
        "clusters = fcluster(linkage_matrix, k, criterion='maxclust')\n",
        "\n",
        "# Compute Rand index\n",
        "true_labels = [relevant_classes.index(reuters.categories(file_id)[0]) for file_id in documents]\n",
        "rand_index_complete = rand_score(true_labels, clusters)\n",
        "\n",
        "print(f'Rand Index: {rand_index_complete}')\n"
      ]
    },
    {
      "cell_type": "code",
      "execution_count": 3,
      "metadata": {
        "colab": {
          "base_uri": "https://localhost:8080/"
        },
        "id": "Qc7yXYvkBuFt",
        "outputId": "915ba870-7361-48df-ff8f-b73b51ed9723"
      },
      "outputs": [
        {
          "name": "stderr",
          "output_type": "stream",
          "text": [
            "[nltk_data] Downloading package reuters to\n",
            "[nltk_data]     C:\\Users\\Ritik\\AppData\\Roaming\\nltk_data...\n",
            "[nltk_data]   Package reuters is already up-to-date!\n"
          ]
        },
        {
          "name": "stdout",
          "output_type": "stream",
          "text": [
            "Rand Index: 0.44947852647243813\n"
          ]
        }
      ],
      "source": [
        "import nltk\n",
        "from nltk.corpus import reuters\n",
        "from nltk.tokenize import word_tokenize\n",
        "from sklearn.feature_extraction.text import TfidfVectorizer\n",
        "from sklearn.metrics.cluster import rand_score\n",
        "import matplotlib.pyplot as plt\n",
        "from scipy.cluster.hierarchy import dendrogram, linkage, fcluster\n",
        "\n",
        "# Download Reuters dataset\n",
        "nltk.download('reuters')\n",
        "\n",
        "# Select relevant classes (crude, interest, and grain)\n",
        "relevant_classes = ['crude', 'interest', 'grain']\n",
        "\n",
        "# Filter documents belonging to the relevant classes\n",
        "documents = [file_id for file_id in reuters.fileids() if set(reuters.categories(file_id)).issubset(relevant_classes)]\n",
        "\n",
        "# Tokenize and vectorize documents\n",
        "corpus = [' '.join(reuters.words(file_id)) for file_id in documents]\n",
        "vectorizer = TfidfVectorizer(stop_words='english')\n",
        "X = vectorizer.fit_transform(corpus)\n",
        "\n",
        "# Compute average-link clustering\n",
        "linkage_matrix = linkage(X.toarray(), method='average')\n",
        "\n",
        "# Cut the dendrogram at the second branch from the top to obtain K=3 clusters\n",
        "k = 3\n",
        "clusters = fcluster(linkage_matrix, k, criterion='maxclust')\n",
        "\n",
        "# Compute Rand index\n",
        "true_labels = [relevant_classes.index(reuters.categories(file_id)[0]) for file_id in documents]\n",
        "rand_index_average = rand_score(true_labels, clusters)\n",
        "\n",
        "print(f'Rand Index: {rand_index_average}')\n"
      ]
    },
    {
      "cell_type": "code",
      "execution_count": 5,
      "metadata": {
        "colab": {
          "base_uri": "https://localhost:8080/"
        },
        "id": "Hj4VVZ0VB3hW",
        "outputId": "d513c188-18e0-4f00-9752-ef5ccdcd3cf1"
      },
      "outputs": [
        {
          "name": "stderr",
          "output_type": "stream",
          "text": [
            "[nltk_data] Downloading package reuters to\n",
            "[nltk_data]     C:\\Users\\Ritik\\AppData\\Roaming\\nltk_data...\n",
            "[nltk_data]   Package reuters is already up-to-date!\n"
          ]
        },
        {
          "name": "stdout",
          "output_type": "stream",
          "text": [
            "Rand Index: 0.7297875051900696\n"
          ]
        }
      ],
      "source": [
        "import nltk\n",
        "from nltk.corpus import reuters\n",
        "from sklearn.feature_extraction.text import TfidfVectorizer\n",
        "from sklearn.metrics.cluster import rand_score\n",
        "import matplotlib.pyplot as plt\n",
        "from scipy.cluster.hierarchy import dendrogram, linkage, fcluster\n",
        "\n",
        "# Download Reuters dataset\n",
        "nltk.download('reuters')\n",
        "\n",
        "# Select relevant classes (crude, interest, and grain)\n",
        "relevant_classes = ['crude', 'interest', 'grain']\n",
        "\n",
        "# Filter documents belonging to the relevant classes\n",
        "documents = [file_id for file_id in reuters.fileids() if set(reuters.categories(file_id)).issubset(relevant_classes)]\n",
        "\n",
        "# Tokenize and vectorize documents\n",
        "corpus = [' '.join(reuters.words(file_id)) for file_id in documents]\n",
        "vectorizer = TfidfVectorizer(stop_words='english')\n",
        "X = vectorizer.fit_transform(corpus)\n",
        "\n",
        "# Compute centroid (ward) clustering\n",
        "linkage_matrix = linkage(X.toarray(), method='ward')\n",
        "\n",
        "# Cut the dendrogram at the second branch from the top to obtain K=3 clusters\n",
        "k = 3\n",
        "clusters = fcluster(linkage_matrix, k, criterion='maxclust')\n",
        "\n",
        "# Compute Rand index\n",
        "true_labels = [relevant_classes.index(reuters.categories(file_id)[0]) for file_id in documents]\n",
        "rand_index_centroid = rand_score(true_labels, clusters)\n",
        "\n",
        "print(f'Rand Index: {rand_index_centroid}')\n"
      ]
    },
    {
      "cell_type": "code",
      "execution_count": 6,
      "metadata": {},
      "outputs": [
        {
          "name": "stdout",
          "output_type": "stream",
          "text": [
            "+---------------+---------------------+\n",
            "|   Clustering  |      Rand Index     |\n",
            "+---------------+---------------------+\n",
            "|  Single_link  |  0.4472750593003992 |\n",
            "| Complete_link |  0.5387436126173162 |\n",
            "|      GAAC     | 0.44947852647243813 |\n",
            "|    Centroid   |  0.7297875051900696 |\n",
            "+---------------+---------------------+\n"
          ]
        }
      ],
      "source": [
        "from prettytable import PrettyTable\n",
        "table = PrettyTable()\n",
        "table.field_names = ['Clustering', 'Rand Index']\n",
        "table.add_row(['Single_link', rand_index_single])\n",
        "table.add_row(['Complete_link', rand_index_complete])\n",
        "table.add_row(['GAAC', rand_index_average])\n",
        "table.add_row(['Centroid', rand_index_centroid])\n",
        "print(table)"
      ]
    }
  ],
  "metadata": {
    "colab": {
      "provenance": []
    },
    "kernelspec": {
      "display_name": "Python 3",
      "name": "python3"
    },
    "language_info": {
      "codemirror_mode": {
        "name": "ipython",
        "version": 3
      },
      "file_extension": ".py",
      "mimetype": "text/x-python",
      "name": "python",
      "nbconvert_exporter": "python",
      "pygments_lexer": "ipython3",
      "version": "3.11.7"
    }
  },
  "nbformat": 4,
  "nbformat_minor": 0
}
