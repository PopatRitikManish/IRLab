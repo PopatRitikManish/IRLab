{
 "cells": [
  {
   "cell_type": "code",
   "execution_count": 12,
   "metadata": {},
   "outputs": [],
   "source": [
    "from collections import defaultdict\n",
    "import os\n",
    "import re\n",
    "\n",
    "class BSBI:\n",
    "    def __init__(self, documents):\n",
    "        self.documents = documents\n",
    "        self.index = defaultdict(list)\n",
    "        self.doc_ids = list(documents.keys())\n",
    "\n",
    "    def build_index(self):\n",
    "        for doc_id, text in self.documents.items():\n",
    "            terms = re.findall(r'\\b\\w+\\b', text.lower())\n",
    "            for term in set(terms):\n",
    "                self.index[term].append(doc_id)\n",
    "\n",
    "    def boolean_search(self, query):\n",
    "        terms = re.findall(r'\\b\\w+\\b', query.lower())\n",
    "        result = set(self.doc_ids)\n",
    "\n",
    "        i = 0\n",
    "        while i < len(terms):\n",
    "            term = terms[i]\n",
    "            if term == 'not':\n",
    "                i += 1\n",
    "                term = terms[i]\n",
    "                result -= set(self.index.get(term, []))\n",
    "            elif term == 'and':\n",
    "                i += 1\n",
    "                term = terms[i]\n",
    "                result &= set(self.index.get(term, []))\n",
    "            elif term == 'or':\n",
    "                i += 1\n",
    "                term = terms[i]\n",
    "                result |= set(self.index.get(term, []))\n",
    "            else:\n",
    "                result &= set(self.index.get(term, []))\n",
    "            i += 1\n",
    "\n",
    "        return result\n",
    "\n",
    "def read_files_in_folder(folder_path):\n",
    "    documents = {}\n",
    "    for filename in os.listdir(folder_path):\n",
    "        if filename.endswith(\".txt\"):\n",
    "            file_path = os.path.join(folder_path, filename)\n",
    "            with open(file_path, \"r\") as file:\n",
    "                document_text = file.read()\n",
    "                documents[filename] = document_text\n",
    "    return documents\n",
    "\n",
    "# Specify the folder containing text files\n",
    "folder_path = \"sample dataset 20 newsgroup\"\n",
    "\n",
    "# Read text files in the folder\n",
    "documents = read_files_in_folder(folder_path)\n",
    "\n",
    "# Create BSBI instance and build index\n",
    "bsbi = BSBI(documents)\n",
    "bsbi.build_index()\n",
    "\n"
   ]
  },
  {
   "cell_type": "code",
   "execution_count": 13,
   "metadata": {},
   "outputs": [
    {
     "name": "stdout",
     "output_type": "stream",
     "text": [
      "Query: information and retrieval\n",
      "Result: {'sci.crypt.txt', 'comp.sys.ibm.pc.hardware.txt', 'sci.space.txt', 'misc.forsale.txt', 'comp.windows.x.txt', 'sci.med.txt', 'comp.os.ms-windows.misc.txt'}\n",
      "\n",
      "Query: cranfield and not retrieval\n",
      "Result: set()\n",
      "\n",
      "Query: boolean or dataset\n",
      "Result: {'sci.crypt.txt', 'sci.electronics.txt', 'comp.windows.x.txt', 'sci.med.txt', 'comp.os.ms-windows.misc.txt', 'comp.graphics.txt'}\n",
      "\n",
      "Query: not Marc\n",
      "Result: {'talk.religion.misc.txt', 'rec.autos.txt', 'talk.politics.guns.txt', 'alt.atheism.txt'}\n"
     ]
    }
   ],
   "source": [
    "# Example queries\n",
    "query1 = \"information and retrieval\"\n",
    "query2 = \"cranfield and not retrieval\"\n",
    "query3 = \"boolean or dataset\"\n",
    "query4 = \"not Marc\"\n",
    "\n",
    "# Perform Boolean search\n",
    "result1 = bsbi.boolean_search(query1)\n",
    "result2 = bsbi.boolean_search(query2)\n",
    "result3 = bsbi.boolean_search(query3)\n",
    "result4 = bsbi.boolean_search(query4)\n",
    "\n",
    "# Display results\n",
    "print(f\"Query: {query1}\\nResult: {result1}\")\n",
    "print(f\"\\nQuery: {query2}\\nResult: {result2}\")\n",
    "print(f\"\\nQuery: {query3}\\nResult: {result3}\")\n",
    "print(f\"\\nQuery: {query4}\\nResult: {result4}\")\n"
   ]
  }
 ],
 "metadata": {
  "kernelspec": {
   "display_name": "Python 3",
   "language": "python",
   "name": "python3"
  },
  "language_info": {
   "codemirror_mode": {
    "name": "ipython",
    "version": 3
   },
   "file_extension": ".py",
   "mimetype": "text/x-python",
   "name": "python",
   "nbconvert_exporter": "python",
   "pygments_lexer": "ipython3",
   "version": "3.11.7"
  }
 },
 "nbformat": 4,
 "nbformat_minor": 2
}
